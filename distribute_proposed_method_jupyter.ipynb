{
 "cells": [
  {
   "cell_type": "code",
   "execution_count": 1,
   "metadata": {
    "collapsed": true
   },
   "outputs": [
    {
     "name": "stderr",
     "output_type": "stream",
     "text": [
      "/home/gong/keras27/local/lib/python2.7/site-packages/h5py/__init__.py:36: FutureWarning: Conversion of the second argument of issubdtype from `float` to `np.floating` is deprecated. In future, it will be treated as `np.float64 == np.dtype(float).type`.\n  from ._conv import register_converters as _register_converters\nUsing TensorFlow backend.\n"
     ]
    },
    {
     "name": "stderr",
     "output_type": "stream",
     "text": [
      "warning: viterbiDecodingPhonemeSeg.pyx:75:21: Index should be typed for more efficient access\n"
     ]
    },
    {
     "name": "stderr",
     "output_type": "stream",
     "text": [
      "/home/gong/keras27/local/lib/python2.7/site-packages/sklearn/base.py:311: UserWarning: Trying to unpickle estimator StandardScaler from version 0.19.0 when using version 0.19.1. This might lead to breaking code or invalid results. Use at your own risk.\n  UserWarning)\n"
     ]
    }
   ],
   "source": [
    "import os\n",
    "import pickle\n",
    "import numpy as np\n",
    "from keras.models import load_model\n",
    "from general.parameters import varin\n",
    "from distribute_proposed_method import proposed_method_pipeline"
   ]
  },
  {
   "cell_type": "code",
   "execution_count": 3,
   "metadata": {
    "collapsed": false
   },
   "outputs": [],
   "source": [
    "root_path = os.getcwd()\n",
    "\n",
    "joint_cnn_model_path = os.path.join(root_path, 'cnnModels', 'joint')\n",
    "\n",
    "# load keras joint cnn model\n",
    "model_joint = load_model(os.path.join(joint_cnn_model_path, 'jan_joint0.h5'))\n",
    "\n",
    "# load log mel feature scaler\n",
    "scaler_joint = pickle.load(open(os.path.join(joint_cnn_model_path, 'scaler_joint.pkl'), 'rb'))\n",
    "\n",
    "wav_file = './temp/line0.wav'\n",
    "syllable_durations_file = './temp/syllable_durations.npy'\n",
    "phoneme_durations_file = './temp/phoneme_durations_grouped_by_syllables.npy'\n",
    "\n",
    "syllable_durations = np.load(syllable_durations_file)\n",
    "phoneme_durations = np.load(phoneme_durations_file)"
   ]
  },
  {
   "cell_type": "code",
   "execution_count": 4,
   "metadata": {},
   "outputs": [
    {
     "name": "stdout",
     "output_type": "stream",
     "text": [
      "('Detected syllable onset times (s):', array([0.  , 0.48, 0.91, 1.38, 1.74, 2.04, 2.21, 2.42, 2.65]))\n('Detected phoneme onset times (s):', array([0.  , 0.12, 0.48, 0.53, 0.91, 1.02, 1.38, 1.4 , 1.63, 1.74, 1.85,\n       2.04, 2.05, 2.21, 2.28, 2.42, 2.5 , 2.65, 2.67, 3.01]))\n"
     ]
    }
   ],
   "source": [
    "boundaries_syllable_start_time, boundaries_phoneme_start_time = proposed_method_pipeline(wav_file,\n",
    "                                                                                         model_joint,\n",
    "                                                                                         scaler_joint,\n",
    "                                                                                         syllable_durations,\n",
    "                                                                                         phoneme_durations,\n",
    "                                                                                         varin)\n",
    "print('Detected syllable onset times (s):', boundaries_syllable_start_time)\n",
    "print('Detected phoneme onset times (s):', boundaries_phoneme_start_time)"
   ]
  }
 ],
 "metadata": {
  "kernelspec": {
   "display_name": "Python 2",
   "language": "python",
   "name": "python2"
  },
  "language_info": {
   "codemirror_mode": {
    "name": "ipython",
    "version": 2.0
   },
   "file_extension": ".py",
   "mimetype": "text/x-python",
   "name": "python",
   "nbconvert_exporter": "python",
   "pygments_lexer": "ipython2",
   "version": "2.7.6"
  }
 },
 "nbformat": 4,
 "nbformat_minor": 0
}